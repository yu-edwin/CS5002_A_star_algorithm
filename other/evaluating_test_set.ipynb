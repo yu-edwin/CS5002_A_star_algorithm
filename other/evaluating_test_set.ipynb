{
 "cells": [
  {
   "cell_type": "markdown",
   "metadata": {},
   "source": [
    "# Example implementation of evaluating test set"
   ]
  },
  {
   "cell_type": "code",
   "execution_count": 38,
   "metadata": {},
   "outputs": [],
   "source": [
    "import pickle\n",
    "from glob import glob"
   ]
  },
  {
   "cell_type": "code",
   "execution_count": 39,
   "metadata": {},
   "outputs": [
    {
     "name": "stdout",
     "output_type": "stream",
     "text": [
      "2000\n"
     ]
    }
   ],
   "source": [
    "boards = []\n",
    "paths = glob(\"data/*/*.pickle\")\n",
    "for i in paths:\n",
    "    with open(i, \"rb\") as fp:\n",
    "        boards.append(pickle.load(fp))\n",
    "print(len(boards))"
   ]
  },
  {
   "cell_type": "code",
   "execution_count": null,
   "metadata": {},
   "outputs": [
    {
     "name": "stdout",
     "output_type": "stream",
     "text": [
      "solved!!\n",
      "sampled 48 states in 0.01 seconds\n",
      "solved!!\n",
      "sampled 3109 states in 0.02 seconds\n"
     ]
    }
   ],
   "source": [
    "# example for searching and writing to appropriate csv file\n",
    "for path, board in zip(paths,boards):\n",
    "    nodes, heap, time = board.solve(\"a_star\")\n",
    "    path = path.split('/')\n",
    "    with open(f\"results/a_star/{path[1]}.csv\",\"a\") as f:\n",
    "        f.write(f\"{'/'.join(path[1:3])},{nodes},{heap},{time}\\n\")\n",
    "\n",
    "    nodes, heap, time = board.solve(\"dijkstra\")\n",
    "    with open(f\"results/dijkstra/{path[1]}.csv\",\"a\") as f:\n",
    "        f.write(f\"{'/'.join(path[1:3])},{nodes},{heap},{time}\\n\")\n"
   ]
  }
 ],
 "metadata": {
  "kernelspec": {
   "display_name": "data",
   "language": "python",
   "name": "python3"
  },
  "language_info": {
   "codemirror_mode": {
    "name": "ipython",
    "version": 3
   },
   "file_extension": ".py",
   "mimetype": "text/x-python",
   "name": "python",
   "nbconvert_exporter": "python",
   "pygments_lexer": "ipython3",
   "version": "3.10.15"
  }
 },
 "nbformat": 4,
 "nbformat_minor": 2
}
