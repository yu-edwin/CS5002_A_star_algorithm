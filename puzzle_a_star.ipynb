{
 "cells": [
  {
   "cell_type": "markdown",
   "metadata": {},
   "source": [
    "maybe useful sources:\n",
    "https://www.cs.princeton.edu/courses/archive/spring09/cos226/assignments/8puzzle.html\n",
    "https://kociemba.org/themen/fifteen/fifteensolver.html\n"
   ]
  },
  {
   "cell_type": "code",
   "execution_count": null,
   "metadata": {},
   "outputs": [],
   "source": [
    "from puzzle import Board, a_star\n",
    "import numpy as np\n",
    "import sys"
   ]
  },
  {
   "cell_type": "code",
   "execution_count": 13,
   "metadata": {},
   "outputs": [
    {
     "name": "stdout",
     "output_type": "stream",
     "text": [
      "[[ 1  2  3  4]\n",
      " [ 5  6  0  8]\n",
      " [ 9 10  7 12]\n",
      " [13 14 11 15]]\n",
      "SOLVED\n",
      "sampled 10 states in 0.00 seconds\n",
      "10 360 36\n",
      "7 120 17\n"
     ]
    }
   ],
   "source": [
    "# 3 moves deep\n",
    "test3 = Board(state=np.array([[1,2,3,4],[5,6,0,8],[9,10,7,12],[13,14,11,15]],dtype=np.int8))\n",
    "print(test3.board)\n",
    "chart3, heap3 = a_star(board=test3)\n",
    "print(len(chart3), sys.getsizeof(chart3), sys.getsizeof(chart3) // len(chart3))\n",
    "print(len(heap3), sys.getsizeof(heap3), sys.getsizeof(heap3) // len(heap3))"
   ]
  },
  {
   "cell_type": "code",
   "execution_count": 14,
   "metadata": {},
   "outputs": [
    {
     "name": "stdout",
     "output_type": "stream",
     "text": [
      "[[ 2  3  7  4]\n",
      " [ 1  5 10  8]\n",
      " [ 9  6  0 12]\n",
      " [13 14 11 15]]\n",
      "SOLVED\n",
      "sampled 153 states in 0.01 seconds\n",
      "153 4696 30\n",
      "77 792 10\n"
     ]
    }
   ],
   "source": [
    "# 10 moves deep\n",
    "test10 = Board(state=np.array([[2,3,7,4],[1,5,10,8],[9,6,0,12],[13,14,11,15]],dtype=np.int8))\n",
    "print(test10.board)\n",
    "chart10, heap10 = a_star(board=test10)\n",
    "print(len(chart10), sys.getsizeof(chart10), sys.getsizeof(chart10) // len(chart10))\n",
    "print(len(heap10), sys.getsizeof(heap10), sys.getsizeof(heap10) // len(heap10))"
   ]
  },
  {
   "cell_type": "code",
   "execution_count": 15,
   "metadata": {},
   "outputs": [
    {
     "name": "stdout",
     "output_type": "stream",
     "text": [
      "[[ 2  9  3  4]\n",
      " [ 1  6  7  8]\n",
      " [10  5 11  0]\n",
      " [13 14 15 12]]\n",
      "SOLVED\n",
      "sampled 4924 states in 0.36 seconds\n",
      "4924 147552 29\n",
      "2350 20536 8\n"
     ]
    }
   ],
   "source": [
    "# 15 moves deep\n",
    "test15 = Board(state=np.array([[2,9,3,4],[1,6,7,8],[10,5,11,0],[13,14,15,12]],dtype=np.int8))\n",
    "print(test15.board)\n",
    "chart15, heap15 = a_star(board=test15)\n",
    "print(len(chart15), sys.getsizeof(chart15), sys.getsizeof(chart15) // len(chart15))\n",
    "print(len(heap15), sys.getsizeof(heap15), sys.getsizeof(heap15) // len(heap15))\n"
   ]
  },
  {
   "cell_type": "code",
   "execution_count": 16,
   "metadata": {},
   "outputs": [
    {
     "name": "stdout",
     "output_type": "stream",
     "text": [
      "[[ 1  0  3  6]\n",
      " [ 9  2  7  4]\n",
      " [11  5 12  8]\n",
      " [13 10 14 15]]\n",
      "SOLVED\n",
      "sampled 1491 states in 0.11 seconds\n",
      "1491 73816 49\n",
      "726 6136 8\n"
     ]
    }
   ],
   "source": [
    "# 20 moves deep\n",
    "test20 = Board(state=np.array([[1,0,3,6],[9,2,7,4],[11,5,12,8],[13,10,14,15]],dtype=np.int8))\n",
    "print(test20.board)\n",
    "chart20, heap20 = a_star(board=test20)\n",
    "print(len(chart20), sys.getsizeof(chart20), sys.getsizeof(chart20) // len(chart20))\n",
    "print(len(heap20), sys.getsizeof(heap20), sys.getsizeof(heap20) // len(heap20))"
   ]
  },
  {
   "cell_type": "code",
   "execution_count": 17,
   "metadata": {},
   "outputs": [
    {
     "name": "stdout",
     "output_type": "stream",
     "text": [
      "[[12  9  3  0]\n",
      " [10  2 14  1]\n",
      " [ 7  6  4 15]\n",
      " [ 5 13 11  8]]\n",
      "SOLVED\n",
      "sampled 8502 states in 0.62 seconds\n",
      "8502 295000 34\n",
      "4056 33048 8\n"
     ]
    }
   ],
   "source": [
    "# idk but it's valid \n",
    "test = Board(state=np.array([[12,9,3,0],[10,2,14,1],[7,6,4,15],[5,13,11,8]],dtype=np.int8))\n",
    "print(test.board)\n",
    "chart, heap = a_star(board=test)\n",
    "print(len(chart), sys.getsizeof(chart), sys.getsizeof(chart) // len(chart))\n",
    "print(len(heap), sys.getsizeof(heap), sys.getsizeof(heap) // len(heap))"
   ]
  },
  {
   "cell_type": "code",
   "execution_count": null,
   "metadata": {},
   "outputs": [],
   "source": [
    "# from https://www.geeksforgeeks.org/check-instance-15-puzzle-solvable/\n",
    "# A utility function to count inversions in given\n",
    "# array . Note that this function can be\n",
    "# optimized to work in O(n Log n) time. The idea\n",
    "# here is to keep code small and simple.\n",
    "N=4\n",
    "def getInvCount(arr: list[int]):\n",
    "    arr1=[]\n",
    "    for y in arr:\n",
    "        for x in y:\n",
    "            arr1.append(x)\n",
    "    arr=arr1\n",
    "    inv_count = 0\n",
    "    for i in range(N * N - 1):\n",
    "        for j in range(i + 1,N * N):\n",
    "            # count pairs(arr[i], arr[j]) such that \n",
    "            # i < j and arr[i] > arr[j]\n",
    "            if (arr[j] and arr[i] and arr[i] > arr[j]):\n",
    "                inv_count+=1\n",
    "         \n",
    "     \n",
    "    return inv_count\n",
    " \n",
    " \n",
    "# find Position of blank from bottom\n",
    "def findXPosition(puzzle):\n",
    "    # start from bottom-right corner of matrix\n",
    "    for i in range(N - 1,-1,-1):\n",
    "        for j in range(N - 1,-1,-1):\n",
    "            if (puzzle[i][j] == 0):\n",
    "                return N - i\n",
    " \n",
    " \n",
    "# This function returns true if given\n",
    "# instance of N*N - 1 puzzle is solvable\n",
    "def isSolvable(puzzle):\n",
    "    # Count inversions in given puzzle\n",
    "    invCount = getInvCount(puzzle)\n",
    " \n",
    "    # If grid is odd, return true if inversion\n",
    "    # count is even.\n",
    "    if (N & 1):\n",
    "        return ~(invCount & 1)\n",
    " \n",
    "    else:    # grid is even\n",
    "        pos = findXPosition(puzzle)\n",
    "        if (pos & 1):\n",
    "            return ~(invCount & 1)\n",
    "        else:\n",
    "            return invCount & 1"
   ]
  }
 ],
 "metadata": {
  "kernelspec": {
   "display_name": "data",
   "language": "python",
   "name": "python3"
  },
  "language_info": {
   "codemirror_mode": {
    "name": "ipython",
    "version": 3
   },
   "file_extension": ".py",
   "mimetype": "text/x-python",
   "name": "python",
   "nbconvert_exporter": "python",
   "pygments_lexer": "ipython3",
   "version": "3.10.15"
  }
 },
 "nbformat": 4,
 "nbformat_minor": 2
}
