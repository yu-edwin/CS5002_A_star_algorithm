{
 "cells": [
  {
   "cell_type": "markdown",
   "metadata": {},
   "source": [
    "maybe useful sources:\n",
    "https://www.cs.princeton.edu/courses/archive/spring09/cos226/assignments/8puzzle.html\n",
    "https://kociemba.org/themen/fifteen/fifteensolver.html\n"
   ]
  },
  {
   "cell_type": "code",
   "execution_count": null,
   "metadata": {},
   "outputs": [],
   "source": [
    "from puzzle import Board, dijkstra\n",
    "import numpy as np\n",
    "import sys"
   ]
  },
  {
   "cell_type": "code",
   "execution_count": null,
   "metadata": {},
   "outputs": [],
   "source": [
    "# 3 moves deep\n",
    "test3 = Board(state=np.array([[1,2,3,4],[5,6,0,8],[9,10,7,12],[13,14,11,15]],dtype=np.int8))\n",
    "print(test3.board)\n",
    "chart3, heap3, _ = dijkstra(board=test3)\n",
    "# print(len(chart3), sys.getsizeof(chart3), sys.getsizeof(chart3) // len(chart3))\n",
    "# print(len(heap3), sys.getsizeof(heap3), sys.getsizeof(heap3) // len(heap3))"
   ]
  },
  {
   "cell_type": "code",
   "execution_count": null,
   "metadata": {},
   "outputs": [],
   "source": [
    "# 10 moves deep\n",
    "test10 = Board(state=np.array([[2,3,7,4],[1,5,10,8],[9,6,0,12],[13,14,11,15]],dtype=np.int8))\n",
    "print(test10.board)\n",
    "chart10, heap10, _ = dijkstra(board=test10)\n",
    "print(len(chart10), sys.getsizeof(chart10), sys.getsizeof(chart10) // len(chart10))\n",
    "print(len(heap10), sys.getsizeof(heap10), sys.getsizeof(heap10) // len(heap10))"
   ]
  },
  {
   "cell_type": "code",
   "execution_count": null,
   "metadata": {},
   "outputs": [],
   "source": [
    "# 15 moves deep\n",
    "test15 = Board(state=np.array([[2,9,3,4],[1,6,7,8],[10,5,11,0],[13,14,15,12]],dtype=np.int8))\n",
    "print(test15.board)\n",
    "chart15, heap15, _ = dijkstra(board=test15)\n",
    "print(len(chart15), sys.getsizeof(chart15), sys.getsizeof(chart15) // len(chart15))\n",
    "print(len(heap15), sys.getsizeof(heap15), sys.getsizeof(heap15) // len(heap15))\n"
   ]
  },
  {
   "cell_type": "code",
   "execution_count": null,
   "metadata": {},
   "outputs": [],
   "source": [
    "# 20 moves deep\n",
    "test20 = Board(state=np.array([[1,0,3,6],[9,2,7,4],[11,5,12,8],[13,10,14,15]],dtype=np.int8))\n",
    "print(test20.board)\n",
    "chart20, heap20, _ = dijkstra(board=test20)\n",
    "print(len(chart20), sys.getsizeof(chart20), sys.getsizeof(chart20) // len(chart20))\n",
    "print(len(heap20), sys.getsizeof(heap20), sys.getsizeof(heap20) // len(heap20))"
   ]
  },
  {
   "cell_type": "code",
   "execution_count": null,
   "metadata": {},
   "outputs": [],
   "source": [
    "# idk but it's valid \n",
    "test = Board(state=np.array([[12,9,3,0],[10,2,14,1],[7,6,4,15],[5,13,11,8]],dtype=np.int8))\n",
    "print(test.board)\n",
    "chart, heap, _ = dijkstra(board=test)\n",
    "print(len(chart), sys.getsizeof(chart), sys.getsizeof(chart) // len(chart))\n",
    "print(len(heap), sys.getsizeof(heap), sys.getsizeof(heap) // len(heap))"
   ]
  }
 ],
 "metadata": {
  "kernelspec": {
   "display_name": "data",
   "language": "python",
   "name": "python3"
  },
  "language_info": {
   "codemirror_mode": {
    "name": "ipython",
    "version": 3
   },
   "file_extension": ".py",
   "mimetype": "text/x-python",
   "name": "python",
   "nbconvert_exporter": "python",
   "pygments_lexer": "ipython3",
   "version": "3.10.15"
  }
 },
 "nbformat": 4,
 "nbformat_minor": 2
}
