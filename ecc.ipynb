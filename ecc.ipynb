{
 "cells": [
  {
   "cell_type": "code",
   "execution_count": 25,
   "metadata": {},
   "outputs": [],
   "source": [
    "import ecc"
   ]
  },
  {
   "cell_type": "code",
   "execution_count": 33,
   "metadata": {},
   "outputs": [
    {
     "name": "stdout",
     "output_type": "stream",
     "text": [
      "01101110\n",
      "6e\n"
     ]
    }
   ],
   "source": [
    "original_message = ecc.message(n=8)\n",
    "ecc.show(original_message)\n",
    "ecc.show(original_message,base = 16)"
   ]
  },
  {
   "cell_type": "code",
   "execution_count": 34,
   "metadata": {},
   "outputs": [
    {
     "name": "stdout",
     "output_type": "stream",
     "text": [
      "11001100010110\n",
      "3316\n"
     ]
    }
   ],
   "source": [
    "encoded_message = ecc.hamming_7_4.encode(original_message)\n",
    "ecc.show(encoded_message)\n",
    "ecc.show(encoded_message,base = 16)"
   ]
  },
  {
   "cell_type": "code",
   "execution_count": 35,
   "metadata": {},
   "outputs": [
    {
     "name": "stdout",
     "output_type": "stream",
     "text": [
      "11000100010010\n",
      "3112\n"
     ]
    }
   ],
   "source": [
    "error_message = ecc.hamming_7_4.error(encoded_message, n=2)\n",
    "ecc.show(error_message)\n",
    "ecc.show(error_message,base = 16)"
   ]
  },
  {
   "cell_type": "code",
   "execution_count": 36,
   "metadata": {},
   "outputs": [
    {
     "name": "stdout",
     "output_type": "stream",
     "text": [
      "00001000000100\n"
     ]
    }
   ],
   "source": [
    "check_message = ecc.hamming_7_4.check(error_message)\n",
    "ecc.show(check_message)"
   ]
  },
  {
   "cell_type": "code",
   "execution_count": 38,
   "metadata": {},
   "outputs": [
    {
     "name": "stdout",
     "output_type": "stream",
     "text": [
      "01101110\n",
      "6e\n"
     ]
    }
   ],
   "source": [
    "decoded_message = ecc.hamming_7_4.decode(error_message)\n",
    "ecc.show(decoded_message)\n",
    "ecc.show(decoded_message,base = 16)"
   ]
  },
  {
   "cell_type": "code",
   "execution_count": null,
   "metadata": {},
   "outputs": [],
   "source": []
  }
 ],
 "metadata": {
  "kernelspec": {
   "display_name": "data",
   "language": "python",
   "name": "python3"
  },
  "language_info": {
   "codemirror_mode": {
    "name": "ipython",
    "version": 3
   },
   "file_extension": ".py",
   "mimetype": "text/x-python",
   "name": "python",
   "nbconvert_exporter": "python",
   "pygments_lexer": "ipython3",
   "version": "3.10.15"
  }
 },
 "nbformat": 4,
 "nbformat_minor": 2
}
