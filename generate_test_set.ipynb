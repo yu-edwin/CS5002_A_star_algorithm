{
 "cells": [
  {
   "cell_type": "markdown",
   "metadata": {},
   "source": [
    "For generating test sets:\n",
    "    stored in pickle (1000 boards in each file)\n",
    "    data set of \n",
    "    test sets of the same length are exactly the same, except a* sets have self.heuristic calculated"
   ]
  },
  {
   "cell_type": "code",
   "execution_count": null,
   "metadata": {},
   "outputs": [],
   "source": [
    "from puzzle import *\n",
    "import pickle"
   ]
  },
  {
   "cell_type": "code",
   "execution_count": 6,
   "metadata": {},
   "outputs": [],
   "source": [
    "for i in range(10,110,10): # steps\n",
    "    test_set = []\n",
    "    for _ in range(100): # generate 100 boards\n",
    "        b = Board()\n",
    "        b.walk(i)\n",
    "        test_set.append(b)\n",
    "\n",
    "    with open(f\"data/dijkstra/{i}.pickle\", \"wb\") as fp: # saving non heuristic set\n",
    "        pickle.dump(test_set, fp)\n",
    "\n",
    "    for j in test_set:\n",
    "        j.heuristic()\n",
    "    with open(f\"data/a_star/{i}.pickle\", \"wb\") as fp: # saving heuristic set\n",
    "        pickle.dump(test_set, fp)"
   ]
  }
 ],
 "metadata": {
  "kernelspec": {
   "display_name": "data",
   "language": "python",
   "name": "python3"
  },
  "language_info": {
   "codemirror_mode": {
    "name": "ipython",
    "version": 3
   },
   "file_extension": ".py",
   "mimetype": "text/x-python",
   "name": "python",
   "nbconvert_exporter": "python",
   "pygments_lexer": "ipython3",
   "version": "3.10.15"
  }
 },
 "nbformat": 4,
 "nbformat_minor": 2
}
