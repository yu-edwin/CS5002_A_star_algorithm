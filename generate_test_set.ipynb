{
 "cells": [
  {
   "cell_type": "markdown",
   "metadata": {},
   "source": [
    "# For generating test sets:\n",
    "Scrambles range from 5 moves to 100 moves, inclusive and in steps of 5.  \n",
    "Generates 100 scrambles for each set, all stored as pickles at data/\\*/\\*.pickle"
   ]
  },
  {
   "cell_type": "code",
   "execution_count": 11,
   "metadata": {},
   "outputs": [],
   "source": [
    "from puzzle import *\n",
    "import pickle\n",
    "import os"
   ]
  },
  {
   "cell_type": "code",
   "execution_count": null,
   "metadata": {},
   "outputs": [],
   "source": [
    "for i in range(5,101,5): # scramble length\n",
    "    os.mkdir(f\"data/{i}\")\n",
    "    for j in range(100): # generate 100 boards\n",
    "        b = Board()\n",
    "        b.walk(i) # scrambling puzzle\n",
    "        with open(f\"data/{i}/{j}.pickle\", \"wb\") as fp:\n",
    "            pickle.dump(b, fp)\n"
   ]
  }
 ],
 "metadata": {
  "kernelspec": {
   "display_name": "data",
   "language": "python",
   "name": "python3"
  },
  "language_info": {
   "codemirror_mode": {
    "name": "ipython",
    "version": 3
   },
   "file_extension": ".py",
   "mimetype": "text/x-python",
   "name": "python",
   "nbconvert_exporter": "python",
   "pygments_lexer": "ipython3",
   "version": "3.10.15"
  }
 },
 "nbformat": 4,
 "nbformat_minor": 2
}
